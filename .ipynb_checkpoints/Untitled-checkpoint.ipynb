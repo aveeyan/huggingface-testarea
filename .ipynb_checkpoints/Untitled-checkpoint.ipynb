{
 "cells": [
  {
   "cell_type": "code",
   "execution_count": null,
   "id": "4670ccd9",
   "metadata": {},
   "outputs": [],
   "source": [
    "# from transformers import pipeline\n",
    "\n",
    "from mezcla import debug\n",
    "\n",
    "from mezcla import system\n",
    "\n",
    "debug.set_level(3)\n",
    "\n",
    "unmasker_wiki = pipeline('fill-mask', 'albert-base-v2')\n",
    "\n",
    "unmasker_jobs = pipeline('fill-mask', '/tmp/jobs-624298')\n",
    "\n",
    "\n",
    "\n",
    "def get_score(model, token, sentence, verbose=False):\n",
    "\n",
    "    \"\"\"Get score for TOKEN in MODEL in masked SENTENCE\"\"\"\n",
    "\n",
    "    # ex: get_score(model, \"dog\", \"A [MASK] is man's best friend\")\n",
    "\n",
    "    try:\n",
    "\n",
    "       result = model(sentence)\n",
    "\n",
    "    except:\n",
    "\n",
    "       system.print_exception_info(\"lookup\")\n",
    "\n",
    "       return 0\n",
    "\n",
    "\n",
    "\n",
    "    if verbose:\n",
    "\n",
    "       print(\"All results: \" + \", \".join([v['token_str'] + \":\" + system.round_as_str(v['score'])\n",
    "\n",
    "                                          for v in result]))\n",
    "\n",
    "    score = 0\n",
    "\n",
    "    found = False\n",
    "\n",
    "    for entry in result:\n",
    "\n",
    "        if (entry['token_str'] == token):\n",
    "\n",
    "            score = entry['score']\n",
    "\n",
    "            found = True\n",
    "\n",
    "            break\n",
    "\n",
    "    return score\n",
    "\n",
    "get_score(unmasker_wiki, \"minimum\", \"Requires [MASK] programming\")\n"
   ]
  },
  {
   "cell_type": "code",
   "execution_count": null,
   "id": "cec3baff",
   "metadata": {},
   "outputs": [],
   "source": []
  }
 ],
 "metadata": {
  "kernelspec": {
   "display_name": "Python 3 (ipykernel)",
   "language": "python",
   "name": "python3"
  },
  "language_info": {
   "codemirror_mode": {
    "name": "ipython",
    "version": 3
   },
   "file_extension": ".py",
   "mimetype": "text/x-python",
   "name": "python",
   "nbconvert_exporter": "python",
   "pygments_lexer": "ipython3",
   "version": "3.8.10"
  }
 },
 "nbformat": 4,
 "nbformat_minor": 5
}
